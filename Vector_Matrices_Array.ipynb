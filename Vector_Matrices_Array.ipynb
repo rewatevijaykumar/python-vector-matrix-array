{
  "nbformat": 4,
  "nbformat_minor": 0,
  "metadata": {
    "colab": {
      "name": "Vector-Matrices-Array.ipynb",
      "provenance": []
    },
    "kernelspec": {
      "name": "python3",
      "display_name": "Python 3"
    }
  },
  "cells": [
    {
      "cell_type": "markdown",
      "metadata": {
        "id": "3ioXFEVVC3f7"
      },
      "source": [
        "# One Dimensional array"
      ]
    },
    {
      "cell_type": "code",
      "metadata": {
        "id": "1q5NLfvJC0cP"
      },
      "source": [
        "import numpy as np"
      ],
      "execution_count": 1,
      "outputs": []
    },
    {
      "cell_type": "code",
      "metadata": {
        "colab": {
          "base_uri": "https://localhost:8080/"
        },
        "id": "9s_zP-MCC199",
        "outputId": "b962b2f8-28f9-493c-e15e-53cf4e3013bd"
      },
      "source": [
        "# create row vector\r\n",
        "\r\n",
        "vector_row = np.array([1,2,3])\r\n",
        "vector_row"
      ],
      "execution_count": 2,
      "outputs": [
        {
          "output_type": "execute_result",
          "data": {
            "text/plain": [
              "array([1, 2, 3])"
            ]
          },
          "metadata": {
            "tags": []
          },
          "execution_count": 2
        }
      ]
    },
    {
      "cell_type": "code",
      "metadata": {
        "colab": {
          "base_uri": "https://localhost:8080/"
        },
        "id": "YCEyfOk8DQ9G",
        "outputId": "5910e230-ea00-4a9b-8356-47878b0ad1f7"
      },
      "source": [
        "# create column vector\r\n",
        "\r\n",
        "vector_col = np.array([[1],\r\n",
        "                       [2],\r\n",
        "                       [3],\r\n",
        "                       [4]])\r\n",
        "vector_col"
      ],
      "execution_count": 3,
      "outputs": [
        {
          "output_type": "execute_result",
          "data": {
            "text/plain": [
              "array([[1],\n",
              "       [2],\n",
              "       [3],\n",
              "       [4]])"
            ]
          },
          "metadata": {
            "tags": []
          },
          "execution_count": 3
        }
      ]
    },
    {
      "cell_type": "markdown",
      "metadata": {
        "id": "cp9eu2xMDgcz"
      },
      "source": [
        "# Two dimensional array"
      ]
    },
    {
      "cell_type": "code",
      "metadata": {
        "colab": {
          "base_uri": "https://localhost:8080/"
        },
        "id": "9Y7F6Yf4DjLO",
        "outputId": "eb712c57-c07e-4c63-8164-44bcb23ddeaf"
      },
      "source": [
        "# create matrix using numpy matrix\r\n",
        "\r\n",
        "matrix = np.matrix([[1,2,3,4],\r\n",
        "                    [5,6,7,8]])\r\n",
        "matrix"
      ],
      "execution_count": 4,
      "outputs": [
        {
          "output_type": "execute_result",
          "data": {
            "text/plain": [
              "matrix([[1, 2, 3, 4],\n",
              "        [5, 6, 7, 8]])"
            ]
          },
          "metadata": {
            "tags": []
          },
          "execution_count": 4
        }
      ]
    },
    {
      "cell_type": "code",
      "metadata": {
        "colab": {
          "base_uri": "https://localhost:8080/"
        },
        "id": "FcVyScYzDtOu",
        "outputId": "3d7e67ae-5e31-4ff3-8cc8-3780ea52e0e9"
      },
      "source": [
        "# create matrix using array (default)\r\n",
        "matrix = np.array([[1,2,3,4],\r\n",
        "                   [5,6,7,8]])\r\n",
        "matrix"
      ],
      "execution_count": 5,
      "outputs": [
        {
          "output_type": "execute_result",
          "data": {
            "text/plain": [
              "array([[1, 2, 3, 4],\n",
              "       [5, 6, 7, 8]])"
            ]
          },
          "metadata": {
            "tags": []
          },
          "execution_count": 5
        }
      ]
    },
    {
      "cell_type": "markdown",
      "metadata": {
        "id": "jZaPbXZXyTML"
      },
      "source": [
        "# Sparse Matrix"
      ]
    },
    {
      "cell_type": "code",
      "metadata": {
        "id": "BRRANF6msIeu"
      },
      "source": [
        "from scipy import sparse"
      ],
      "execution_count": 6,
      "outputs": []
    },
    {
      "cell_type": "code",
      "metadata": {
        "colab": {
          "base_uri": "https://localhost:8080/"
        },
        "id": "88ukeQ6-sQze",
        "outputId": "a174357e-ab7f-4b10-f0c5-c005ada77694"
      },
      "source": [
        "matrix = np.array([[1,4],\r\n",
        "                  [3,0],\r\n",
        "                  [0,2]])\r\n",
        "matrix"
      ],
      "execution_count": 7,
      "outputs": [
        {
          "output_type": "execute_result",
          "data": {
            "text/plain": [
              "array([[1, 4],\n",
              "       [3, 0],\n",
              "       [0, 2]])"
            ]
          },
          "metadata": {
            "tags": []
          },
          "execution_count": 7
        }
      ]
    },
    {
      "cell_type": "code",
      "metadata": {
        "colab": {
          "base_uri": "https://localhost:8080/"
        },
        "id": "l4Wk6r9PscdD",
        "outputId": "29d78f62-f0de-4138-81ac-576d3f46f15a"
      },
      "source": [
        "#create compressed sparse row\r\n",
        "sparse_matrix = sparse.csr_matrix(matrix)\r\n",
        "print(sparse_matrix)"
      ],
      "execution_count": 8,
      "outputs": [
        {
          "output_type": "stream",
          "text": [
            "  (0, 0)\t1\n",
            "  (0, 1)\t4\n",
            "  (1, 0)\t3\n",
            "  (2, 1)\t2\n"
          ],
          "name": "stdout"
        }
      ]
    },
    {
      "cell_type": "code",
      "metadata": {
        "colab": {
          "base_uri": "https://localhost:8080/"
        },
        "id": "lTqrqFZCsqj4",
        "outputId": "9cc76339-9c1b-4568-cd26-6594c22f252c"
      },
      "source": [
        "# large matrix\r\n",
        "matrix = np.array([[1,4,0,0,0,0,0,0,0,0,0,0],\r\n",
        "                   [3,0,0,0,0,0,0,0,0,0,0,0],\r\n",
        "                   [0,2,0,0,0,0,0,0,0,0,0,0]])\r\n",
        "sparse_matrix = sparse.csr_matrix(matrix)\r\n",
        "print(sparse_matrix)"
      ],
      "execution_count": 9,
      "outputs": [
        {
          "output_type": "stream",
          "text": [
            "  (0, 0)\t1\n",
            "  (0, 1)\t4\n",
            "  (1, 0)\t3\n",
            "  (2, 1)\t2\n"
          ],
          "name": "stdout"
        }
      ]
    },
    {
      "cell_type": "markdown",
      "metadata": {
        "id": "Um7p5wHrynsv"
      },
      "source": [
        "# Selecting elements from vector and matrix"
      ]
    },
    {
      "cell_type": "code",
      "metadata": {
        "colab": {
          "base_uri": "https://localhost:8080/"
        },
        "id": "Q0nONqCZunFg",
        "outputId": "f6e3a2f9-3881-42be-fe1e-9b2e4ae44ddb"
      },
      "source": [
        "# select element from vector\r\n",
        "\r\n",
        "vector = np.array([1,2,3,4])\r\n",
        "matrix = np.array([[1,2,3,4],\r\n",
        "                   [3,4,5,7],\r\n",
        "                   [7,8,3,5]])\r\n",
        "\r\n",
        "# select third element from vector\r\n",
        "print(vector[2])\r\n",
        "\r\n",
        "# select second row third column from matrix\r\n",
        "print(matrix[1,2])"
      ],
      "execution_count": 10,
      "outputs": [
        {
          "output_type": "stream",
          "text": [
            "3\n",
            "5\n"
          ],
          "name": "stdout"
        }
      ]
    },
    {
      "cell_type": "code",
      "metadata": {
        "colab": {
          "base_uri": "https://localhost:8080/"
        },
        "id": "K0uO18JNvkth",
        "outputId": "854ced85-4ea6-440e-e02c-3f296896eee7"
      },
      "source": [
        "# select all elements of vector\r\n",
        "vector[:]"
      ],
      "execution_count": 11,
      "outputs": [
        {
          "output_type": "execute_result",
          "data": {
            "text/plain": [
              "array([1, 2, 3, 4])"
            ]
          },
          "metadata": {
            "tags": []
          },
          "execution_count": 11
        }
      ]
    },
    {
      "cell_type": "code",
      "metadata": {
        "colab": {
          "base_uri": "https://localhost:8080/"
        },
        "id": "GWFpzkpzwTHY",
        "outputId": "9e2cd55e-e3b4-45a3-c8a0-886efaed1279"
      },
      "source": [
        "# select all upto 3 elements\r\n",
        "vector[:3]"
      ],
      "execution_count": 12,
      "outputs": [
        {
          "output_type": "execute_result",
          "data": {
            "text/plain": [
              "array([1, 2, 3])"
            ]
          },
          "metadata": {
            "tags": []
          },
          "execution_count": 12
        }
      ]
    },
    {
      "cell_type": "code",
      "metadata": {
        "colab": {
          "base_uri": "https://localhost:8080/"
        },
        "id": "DWykThr_wZFf",
        "outputId": "53508eee-cbf5-4321-ccfa-50dee1037eb6"
      },
      "source": [
        "# select everything after 3rd element\r\n",
        "vector[3:]"
      ],
      "execution_count": 13,
      "outputs": [
        {
          "output_type": "execute_result",
          "data": {
            "text/plain": [
              "array([4])"
            ]
          },
          "metadata": {
            "tags": []
          },
          "execution_count": 13
        }
      ]
    },
    {
      "cell_type": "code",
      "metadata": {
        "colab": {
          "base_uri": "https://localhost:8080/"
        },
        "id": "YLiFtHqjwi_T",
        "outputId": "7e6b56be-94c8-41b4-f1f6-35e6dc8ca481"
      },
      "source": [
        "#select last element\r\n",
        "vector[-1]"
      ],
      "execution_count": 14,
      "outputs": [
        {
          "output_type": "execute_result",
          "data": {
            "text/plain": [
              "4"
            ]
          },
          "metadata": {
            "tags": []
          },
          "execution_count": 14
        }
      ]
    },
    {
      "cell_type": "code",
      "metadata": {
        "colab": {
          "base_uri": "https://localhost:8080/"
        },
        "id": "rUeMLFnkwnBH",
        "outputId": "ebe0d9c3-c749-469c-c5bc-c56e5c9031c4"
      },
      "source": [
        "# select frst two rows and all columns of matrix\r\n",
        "matrix[:2,:]"
      ],
      "execution_count": 15,
      "outputs": [
        {
          "output_type": "execute_result",
          "data": {
            "text/plain": [
              "array([[1, 2, 3, 4],\n",
              "       [3, 4, 5, 7]])"
            ]
          },
          "metadata": {
            "tags": []
          },
          "execution_count": 15
        }
      ]
    },
    {
      "cell_type": "code",
      "metadata": {
        "colab": {
          "base_uri": "https://localhost:8080/"
        },
        "id": "BZVvB0gCwzlG",
        "outputId": "c20855a1-208d-489b-903f-1ae9b575f3de"
      },
      "source": [
        "# select all rows and 2nd column\r\n",
        "matrix[:,1:2]"
      ],
      "execution_count": 16,
      "outputs": [
        {
          "output_type": "execute_result",
          "data": {
            "text/plain": [
              "array([[2],\n",
              "       [4],\n",
              "       [8]])"
            ]
          },
          "metadata": {
            "tags": []
          },
          "execution_count": 16
        }
      ]
    },
    {
      "cell_type": "markdown",
      "metadata": {
        "id": "dhyn5CacyN-_"
      },
      "source": [
        "# Describing matrix"
      ]
    },
    {
      "cell_type": "code",
      "metadata": {
        "colab": {
          "base_uri": "https://localhost:8080/"
        },
        "id": "jPYLTH53xhbk",
        "outputId": "92abbd5f-2bb2-4ed2-8813-282fad10282d"
      },
      "source": [
        "# shape, size, dimension\r\n",
        "\r\n",
        "# view number of rows and columns\r\n",
        "matrix.shape"
      ],
      "execution_count": 17,
      "outputs": [
        {
          "output_type": "execute_result",
          "data": {
            "text/plain": [
              "(3, 4)"
            ]
          },
          "metadata": {
            "tags": []
          },
          "execution_count": 17
        }
      ]
    },
    {
      "cell_type": "code",
      "metadata": {
        "colab": {
          "base_uri": "https://localhost:8080/"
        },
        "id": "6bwD7PeSyIdJ",
        "outputId": "a7b0e058-dc21-4a95-8bb8-4d41d1fe9d50"
      },
      "source": [
        "# view number of elements in matrix\r\n",
        "matrix.size"
      ],
      "execution_count": 18,
      "outputs": [
        {
          "output_type": "execute_result",
          "data": {
            "text/plain": [
              "12"
            ]
          },
          "metadata": {
            "tags": []
          },
          "execution_count": 18
        }
      ]
    },
    {
      "cell_type": "code",
      "metadata": {
        "colab": {
          "base_uri": "https://localhost:8080/"
        },
        "id": "541YOejpzUbz",
        "outputId": "80c6d751-f6ca-4119-e459-8903d9c5ae18"
      },
      "source": [
        "# view number of dimensions\r\n",
        "matrix.ndim"
      ],
      "execution_count": 19,
      "outputs": [
        {
          "output_type": "execute_result",
          "data": {
            "text/plain": [
              "2"
            ]
          },
          "metadata": {
            "tags": []
          },
          "execution_count": 19
        }
      ]
    },
    {
      "cell_type": "markdown",
      "metadata": {
        "id": "DMAdbA82ziMv"
      },
      "source": [
        "# Apply operations to elements"
      ]
    },
    {
      "cell_type": "code",
      "metadata": {
        "colab": {
          "base_uri": "https://localhost:8080/"
        },
        "id": "WOdSFC7DzZGy",
        "outputId": "39dc04f1-1da4-45ae-ccc8-03ed3ae05997"
      },
      "source": [
        "# create matrix\r\n",
        "matrix = np.array([[1,2,3],\r\n",
        "                   [4,5,6],\r\n",
        "                   [7,8,9]])\r\n",
        "\r\n",
        "# create function that add 100 \r\n",
        "add_100 = lambda i : i + 100\r\n",
        "\r\n",
        "# create vectorized funciton\r\n",
        "vectorized_add_100 = np.vectorize(add_100)\r\n",
        "\r\n",
        "# apply function to all elements\r\n",
        "vectorized_add_100(matrix)\r\n",
        "\r\n"
      ],
      "execution_count": 20,
      "outputs": [
        {
          "output_type": "execute_result",
          "data": {
            "text/plain": [
              "array([[101, 102, 103],\n",
              "       [104, 105, 106],\n",
              "       [107, 108, 109]])"
            ]
          },
          "metadata": {
            "tags": []
          },
          "execution_count": 20
        }
      ]
    },
    {
      "cell_type": "code",
      "metadata": {
        "colab": {
          "base_uri": "https://localhost:8080/"
        },
        "id": "WRWGk0xC0Zsk",
        "outputId": "cdd9f04d-de90-4d75-b781-522c90383b3c"
      },
      "source": [
        "# Add 100 to all elements\r\n",
        "matrix + 100"
      ],
      "execution_count": 21,
      "outputs": [
        {
          "output_type": "execute_result",
          "data": {
            "text/plain": [
              "array([[101, 102, 103],\n",
              "       [104, 105, 106],\n",
              "       [107, 108, 109]])"
            ]
          },
          "metadata": {
            "tags": []
          },
          "execution_count": 21
        }
      ]
    },
    {
      "cell_type": "markdown",
      "metadata": {
        "id": "lTBxUvjO0_c6"
      },
      "source": [
        "# Min and Max Value of matrix"
      ]
    },
    {
      "cell_type": "code",
      "metadata": {
        "colab": {
          "base_uri": "https://localhost:8080/"
        },
        "id": "WWdcyzwG0wlp",
        "outputId": "ba22a9a1-4e4d-4715-db38-20723ad38cff"
      },
      "source": [
        "# return minimum element\r\n",
        "np.min(matrix)"
      ],
      "execution_count": 22,
      "outputs": [
        {
          "output_type": "execute_result",
          "data": {
            "text/plain": [
              "1"
            ]
          },
          "metadata": {
            "tags": []
          },
          "execution_count": 22
        }
      ]
    },
    {
      "cell_type": "code",
      "metadata": {
        "colab": {
          "base_uri": "https://localhost:8080/"
        },
        "id": "zOo6bzKc06rL",
        "outputId": "2e1b85fa-fe69-45b3-8cc9-62670d59ab2a"
      },
      "source": [
        "# return maximum element\r\n",
        "np.max(matrix)"
      ],
      "execution_count": 23,
      "outputs": [
        {
          "output_type": "execute_result",
          "data": {
            "text/plain": [
              "9"
            ]
          },
          "metadata": {
            "tags": []
          },
          "execution_count": 23
        }
      ]
    },
    {
      "cell_type": "code",
      "metadata": {
        "colab": {
          "base_uri": "https://localhost:8080/"
        },
        "id": "E-UmsOgM1LWY",
        "outputId": "1ef400ed-d623-4020-b86e-daa81d4047d6"
      },
      "source": [
        "# min element in each column\r\n",
        "np.min(matrix, axis=0)"
      ],
      "execution_count": 24,
      "outputs": [
        {
          "output_type": "execute_result",
          "data": {
            "text/plain": [
              "array([1, 2, 3])"
            ]
          },
          "metadata": {
            "tags": []
          },
          "execution_count": 24
        }
      ]
    },
    {
      "cell_type": "code",
      "metadata": {
        "colab": {
          "base_uri": "https://localhost:8080/"
        },
        "id": "ogSvIG1F1ajX",
        "outputId": "5e17db75-a13c-483b-e38c-a36b41524c35"
      },
      "source": [
        "# min element in each row\r\n",
        "np.min(matrix, axis=1)"
      ],
      "execution_count": 25,
      "outputs": [
        {
          "output_type": "execute_result",
          "data": {
            "text/plain": [
              "array([1, 4, 7])"
            ]
          },
          "metadata": {
            "tags": []
          },
          "execution_count": 25
        }
      ]
    },
    {
      "cell_type": "code",
      "metadata": {
        "colab": {
          "base_uri": "https://localhost:8080/"
        },
        "id": "_iq4jDnH1gGW",
        "outputId": "aa33c31c-5b00-499f-d12a-24e0c0118977"
      },
      "source": [
        "# max element in each column\r\n",
        "np.max(matrix, axis=0)"
      ],
      "execution_count": 26,
      "outputs": [
        {
          "output_type": "execute_result",
          "data": {
            "text/plain": [
              "array([7, 8, 9])"
            ]
          },
          "metadata": {
            "tags": []
          },
          "execution_count": 26
        }
      ]
    },
    {
      "cell_type": "code",
      "metadata": {
        "colab": {
          "base_uri": "https://localhost:8080/"
        },
        "id": "38ixsFIL12kb",
        "outputId": "6bf10708-e996-41d6-c800-d882a9a3c54a"
      },
      "source": [
        "# max element in each row\r\n",
        "np.max(matrix, axis=1)"
      ],
      "execution_count": 27,
      "outputs": [
        {
          "output_type": "execute_result",
          "data": {
            "text/plain": [
              "array([3, 6, 9])"
            ]
          },
          "metadata": {
            "tags": []
          },
          "execution_count": 27
        }
      ]
    },
    {
      "cell_type": "markdown",
      "metadata": {
        "id": "pjW-op1-1-nj"
      },
      "source": [
        "# calculate average, variance, standard deviation"
      ]
    },
    {
      "cell_type": "code",
      "metadata": {
        "colab": {
          "base_uri": "https://localhost:8080/"
        },
        "id": "ywuyRUM_162i",
        "outputId": "87d6969c-49c3-4e22-9043-4dcf49e6796d"
      },
      "source": [
        "# mean\r\n",
        "np.mean(matrix)"
      ],
      "execution_count": 28,
      "outputs": [
        {
          "output_type": "execute_result",
          "data": {
            "text/plain": [
              "5.0"
            ]
          },
          "metadata": {
            "tags": []
          },
          "execution_count": 28
        }
      ]
    },
    {
      "cell_type": "code",
      "metadata": {
        "colab": {
          "base_uri": "https://localhost:8080/"
        },
        "id": "BNuSVCJ12JCp",
        "outputId": "43b5b9bb-49e2-415c-fe5d-216e0f29b7f7"
      },
      "source": [
        "# variance\r\n",
        "np.var(matrix)"
      ],
      "execution_count": 29,
      "outputs": [
        {
          "output_type": "execute_result",
          "data": {
            "text/plain": [
              "6.666666666666667"
            ]
          },
          "metadata": {
            "tags": []
          },
          "execution_count": 29
        }
      ]
    },
    {
      "cell_type": "code",
      "metadata": {
        "colab": {
          "base_uri": "https://localhost:8080/"
        },
        "id": "57vhKKAZ2OTK",
        "outputId": "5c22cfe3-2752-4ff0-a11e-54ee6743ee42"
      },
      "source": [
        "# standard deviation\r\n",
        "np.std(matrix)"
      ],
      "execution_count": 30,
      "outputs": [
        {
          "output_type": "execute_result",
          "data": {
            "text/plain": [
              "2.581988897471611"
            ]
          },
          "metadata": {
            "tags": []
          },
          "execution_count": 30
        }
      ]
    },
    {
      "cell_type": "code",
      "metadata": {
        "colab": {
          "base_uri": "https://localhost:8080/"
        },
        "id": "RG5ZAAav2X7C",
        "outputId": "2f20ffd1-faa7-4fec-bf32-125ef03e995f"
      },
      "source": [
        "# mean in each column\r\n",
        "np.mean(matrix, axis=0)"
      ],
      "execution_count": 31,
      "outputs": [
        {
          "output_type": "execute_result",
          "data": {
            "text/plain": [
              "array([4., 5., 6.])"
            ]
          },
          "metadata": {
            "tags": []
          },
          "execution_count": 31
        }
      ]
    },
    {
      "cell_type": "markdown",
      "metadata": {
        "id": "oxTyIfOo2oY9"
      },
      "source": [
        "# Reshaping arrays"
      ]
    },
    {
      "cell_type": "code",
      "metadata": {
        "colab": {
          "base_uri": "https://localhost:8080/"
        },
        "id": "_d8F-cyF2j1u",
        "outputId": "03c6bb6f-d419-48ae-d026-3d0708d41e75"
      },
      "source": [
        "# create 4 x 3 matrix\r\n",
        "matrix = np.array([[1,2,3],\r\n",
        "                   [4,5,6],\r\n",
        "                   [7,8,9],\r\n",
        "                   [10,11,12]])\r\n",
        "\r\n",
        "# reshape matrix into 2 x 6 matrix\r\n",
        "matrix.reshape(2,6)"
      ],
      "execution_count": 32,
      "outputs": [
        {
          "output_type": "execute_result",
          "data": {
            "text/plain": [
              "array([[ 1,  2,  3,  4,  5,  6],\n",
              "       [ 7,  8,  9, 10, 11, 12]])"
            ]
          },
          "metadata": {
            "tags": []
          },
          "execution_count": 32
        }
      ]
    },
    {
      "cell_type": "code",
      "metadata": {
        "colab": {
          "base_uri": "https://localhost:8080/"
        },
        "id": "Rc5nfq9a3Nk7",
        "outputId": "b54211d0-1f17-410a-f731-180485d6581c"
      },
      "source": [
        "# reshape -1 as many as needed\r\n",
        "\r\n",
        "matrix.reshape(-1,2)"
      ],
      "execution_count": 33,
      "outputs": [
        {
          "output_type": "execute_result",
          "data": {
            "text/plain": [
              "array([[ 1,  2],\n",
              "       [ 3,  4],\n",
              "       [ 5,  6],\n",
              "       [ 7,  8],\n",
              "       [ 9, 10],\n",
              "       [11, 12]])"
            ]
          },
          "metadata": {
            "tags": []
          },
          "execution_count": 33
        }
      ]
    },
    {
      "cell_type": "code",
      "metadata": {
        "colab": {
          "base_uri": "https://localhost:8080/"
        },
        "id": "a2QOCuy8-Qvu",
        "outputId": "f6f6cf03-61a7-4cbf-f69e-d3f4075d0368"
      },
      "source": [
        "# reshape 1D array\r\n",
        "matrix.reshape(12)"
      ],
      "execution_count": 34,
      "outputs": [
        {
          "output_type": "execute_result",
          "data": {
            "text/plain": [
              "array([ 1,  2,  3,  4,  5,  6,  7,  8,  9, 10, 11, 12])"
            ]
          },
          "metadata": {
            "tags": []
          },
          "execution_count": 34
        }
      ]
    },
    {
      "cell_type": "markdown",
      "metadata": {
        "id": "4g32jYhe-1WJ"
      },
      "source": [
        "# Transpose vector or matrix"
      ]
    },
    {
      "cell_type": "code",
      "metadata": {
        "colab": {
          "base_uri": "https://localhost:8080/"
        },
        "id": "0Mj_h-y0-ncv",
        "outputId": "3b51c76c-1b3f-48d5-937c-02926b186915"
      },
      "source": [
        "# create matrix\r\n",
        "matrix = np.array([[1,2,3],\r\n",
        "                   [4,5,6],\r\n",
        "                   [7,8,9]])\r\n",
        "\r\n",
        "# transpose of matrix\r\n",
        "matrix.T"
      ],
      "execution_count": 35,
      "outputs": [
        {
          "output_type": "execute_result",
          "data": {
            "text/plain": [
              "array([[1, 4, 7],\n",
              "       [2, 5, 8],\n",
              "       [3, 6, 9]])"
            ]
          },
          "metadata": {
            "tags": []
          },
          "execution_count": 35
        }
      ]
    },
    {
      "cell_type": "code",
      "metadata": {
        "colab": {
          "base_uri": "https://localhost:8080/"
        },
        "id": "7btyo2Pb_AQ-",
        "outputId": "fcc1ac65-278b-4e87-f305-55333438b5e4"
      },
      "source": [
        "# transpose a row vector to column vector\r\n",
        "vector = np.array([[1,2,3,4,5,6]])\r\n",
        "\r\n",
        "vector.T"
      ],
      "execution_count": 36,
      "outputs": [
        {
          "output_type": "execute_result",
          "data": {
            "text/plain": [
              "array([[1],\n",
              "       [2],\n",
              "       [3],\n",
              "       [4],\n",
              "       [5],\n",
              "       [6]])"
            ]
          },
          "metadata": {
            "tags": []
          },
          "execution_count": 36
        }
      ]
    },
    {
      "cell_type": "markdown",
      "metadata": {
        "id": "yNWXr0ODAaUa"
      },
      "source": [
        "# Flattening a matrix"
      ]
    },
    {
      "cell_type": "code",
      "metadata": {
        "colab": {
          "base_uri": "https://localhost:8080/"
        },
        "id": "JhXzFZXeAEsd",
        "outputId": "c083ee65-4c04-48f0-f46e-d35640d173e1"
      },
      "source": [
        "# create matrix \r\n",
        "matrix = np.array([[1,2,3],\r\n",
        "                   [4,5,6],\r\n",
        "                   [7,8,9]])\r\n",
        "\r\n",
        "# flatten a matrix\r\n",
        "matrix.flatten()"
      ],
      "execution_count": 37,
      "outputs": [
        {
          "output_type": "execute_result",
          "data": {
            "text/plain": [
              "array([1, 2, 3, 4, 5, 6, 7, 8, 9])"
            ]
          },
          "metadata": {
            "tags": []
          },
          "execution_count": 37
        }
      ]
    },
    {
      "cell_type": "code",
      "metadata": {
        "colab": {
          "base_uri": "https://localhost:8080/"
        },
        "id": "QeMt28MyAq0D",
        "outputId": "88cad16b-eb4a-444e-80af-680d7821850b"
      },
      "source": [
        "# alternatively use reshape -1\r\n",
        "matrix.reshape(1,-1)"
      ],
      "execution_count": 38,
      "outputs": [
        {
          "output_type": "execute_result",
          "data": {
            "text/plain": [
              "array([[1, 2, 3, 4, 5, 6, 7, 8, 9]])"
            ]
          },
          "metadata": {
            "tags": []
          },
          "execution_count": 38
        }
      ]
    },
    {
      "cell_type": "markdown",
      "metadata": {
        "id": "AeUCEiqRBGZR"
      },
      "source": [
        "# Rank of Matrix"
      ]
    },
    {
      "cell_type": "code",
      "metadata": {
        "colab": {
          "base_uri": "https://localhost:8080/"
        },
        "id": "dpUKoc8HA7-w",
        "outputId": "d3997450-d94c-48d2-a64e-bb35848bf084"
      },
      "source": [
        "np.linalg.matrix_rank(matrix)"
      ],
      "execution_count": 39,
      "outputs": [
        {
          "output_type": "execute_result",
          "data": {
            "text/plain": [
              "2"
            ]
          },
          "metadata": {
            "tags": []
          },
          "execution_count": 39
        }
      ]
    },
    {
      "cell_type": "markdown",
      "metadata": {
        "id": "rHvnJR_tBww5"
      },
      "source": [
        "# Determinant of matrix"
      ]
    },
    {
      "cell_type": "code",
      "metadata": {
        "colab": {
          "base_uri": "https://localhost:8080/"
        },
        "id": "bGdyHCecBH_E",
        "outputId": "c224616f-0a32-48e2-dc62-83f4f469a4a1"
      },
      "source": [
        "np.linalg.det(matrix)"
      ],
      "execution_count": 40,
      "outputs": [
        {
          "output_type": "execute_result",
          "data": {
            "text/plain": [
              "0.0"
            ]
          },
          "metadata": {
            "tags": []
          },
          "execution_count": 40
        }
      ]
    },
    {
      "cell_type": "markdown",
      "metadata": {
        "id": "0ejJxnYsCFox"
      },
      "source": [
        "# Diagonal of matrix"
      ]
    },
    {
      "cell_type": "code",
      "metadata": {
        "colab": {
          "base_uri": "https://localhost:8080/"
        },
        "id": "Vn9QYfueB17s",
        "outputId": "0c71d8fc-d3a5-42ec-d3db-d74045cdd7fc"
      },
      "source": [
        "# return main diagonal\r\n",
        "matrix.diagonal()"
      ],
      "execution_count": 41,
      "outputs": [
        {
          "output_type": "execute_result",
          "data": {
            "text/plain": [
              "array([1, 5, 9])"
            ]
          },
          "metadata": {
            "tags": []
          },
          "execution_count": 41
        }
      ]
    },
    {
      "cell_type": "code",
      "metadata": {
        "colab": {
          "base_uri": "https://localhost:8080/"
        },
        "id": "dWs3c8M0CM1u",
        "outputId": "6be38fa8-d9cb-482f-d0f1-f0e5e5d4f017"
      },
      "source": [
        "# return one diagonal above main diagonal\r\n",
        "matrix.diagonal(offset=1)"
      ],
      "execution_count": 42,
      "outputs": [
        {
          "output_type": "execute_result",
          "data": {
            "text/plain": [
              "array([2, 6])"
            ]
          },
          "metadata": {
            "tags": []
          },
          "execution_count": 42
        }
      ]
    },
    {
      "cell_type": "code",
      "metadata": {
        "colab": {
          "base_uri": "https://localhost:8080/"
        },
        "id": "KTNw0bzOCepd",
        "outputId": "d7bdfeb9-26ed-4cf3-aa0a-32793f5a04ac"
      },
      "source": [
        "# return one diagonal below main diagonal\r\n",
        "matrix.diagonal(offset=-1)"
      ],
      "execution_count": 43,
      "outputs": [
        {
          "output_type": "execute_result",
          "data": {
            "text/plain": [
              "array([4, 8])"
            ]
          },
          "metadata": {
            "tags": []
          },
          "execution_count": 43
        }
      ]
    },
    {
      "cell_type": "markdown",
      "metadata": {
        "id": "FjjuYmkREZkV"
      },
      "source": [
        "# Trace of matrix\r\n",
        "\r\n",
        "sum of the diagonal elements"
      ]
    },
    {
      "cell_type": "code",
      "metadata": {
        "colab": {
          "base_uri": "https://localhost:8080/"
        },
        "id": "yyxhsZNvCmoU",
        "outputId": "d3f9b71f-f285-4261-94ba-95e5ee24d501"
      },
      "source": [
        "#create a matrix\r\n",
        "matrix = np.array([[1,2,3],\r\n",
        "                   [4,5,6],\r\n",
        "                   [7,8,9]])\r\n",
        "matrix.trace()"
      ],
      "execution_count": 44,
      "outputs": [
        {
          "output_type": "execute_result",
          "data": {
            "text/plain": [
              "15"
            ]
          },
          "metadata": {
            "tags": []
          },
          "execution_count": 44
        }
      ]
    },
    {
      "cell_type": "code",
      "metadata": {
        "colab": {
          "base_uri": "https://localhost:8080/"
        },
        "id": "0m_ltuL9Ep1y",
        "outputId": "87e33348-d6df-4206-93c3-d4f467236cce"
      },
      "source": [
        "# alternatively use sum with diagonal\r\n",
        "sum(matrix.diagonal())"
      ],
      "execution_count": 45,
      "outputs": [
        {
          "output_type": "execute_result",
          "data": {
            "text/plain": [
              "15"
            ]
          },
          "metadata": {
            "tags": []
          },
          "execution_count": 45
        }
      ]
    },
    {
      "cell_type": "markdown",
      "metadata": {
        "id": "i0ESbdv9Ufnq"
      },
      "source": [
        "# Eigenvalues and Eigenvectors\r\n",
        "eigenvectors are vectors that, when that\r\n",
        "transformation is applied, change only in scale (not direction)."
      ]
    },
    {
      "cell_type": "code",
      "metadata": {
        "colab": {
          "base_uri": "https://localhost:8080/"
        },
        "id": "ULG4cL7BEsb5",
        "outputId": "87b9cea0-1ef4-4e8c-9a48-40558721e9b9"
      },
      "source": [
        "# create matrix\r\n",
        "matrix = np.array([[1,-1,3],\r\n",
        "                   [1,1,6],\r\n",
        "                   [3,8,9]])\r\n",
        "\r\n",
        "# calculate eigenvalues and eigenvectors\r\n",
        "eigenvalues, eigenvectors = np.linalg.eig(matrix)\r\n",
        "\r\n",
        "# view eigenvalues\r\n",
        "eigenvalues"
      ],
      "execution_count": 46,
      "outputs": [
        {
          "output_type": "execute_result",
          "data": {
            "text/plain": [
              "array([13.55075847,  0.74003145, -3.29078992])"
            ]
          },
          "metadata": {
            "tags": []
          },
          "execution_count": 46
        }
      ]
    },
    {
      "cell_type": "code",
      "metadata": {
        "colab": {
          "base_uri": "https://localhost:8080/"
        },
        "id": "Fz6locHiVGti",
        "outputId": "e47de083-ca38-4dbf-a515-41721a21f69d"
      },
      "source": [
        "# view eigenvectors\r\n",
        "eigenvectors"
      ],
      "execution_count": 47,
      "outputs": [
        {
          "output_type": "execute_result",
          "data": {
            "text/plain": [
              "array([[-0.17622017, -0.96677403, -0.53373322],\n",
              "       [-0.435951  ,  0.2053623 , -0.64324848],\n",
              "       [-0.88254925,  0.15223105,  0.54896288]])"
            ]
          },
          "metadata": {
            "tags": []
          },
          "execution_count": 47
        }
      ]
    },
    {
      "cell_type": "markdown",
      "metadata": {
        "id": "uLTS2P37VZWw"
      },
      "source": [
        "# Dot Product"
      ]
    },
    {
      "cell_type": "code",
      "metadata": {
        "colab": {
          "base_uri": "https://localhost:8080/"
        },
        "id": "LeS-pDAyVMjT",
        "outputId": "ccb28759-dd37-40d4-d51f-69f584372ceb"
      },
      "source": [
        "# create two vectors\r\n",
        "vector_a = np.array([1,2,3])\r\n",
        "vector_b = np.array([4,5,6])\r\n",
        "\r\n",
        "# calculate dot product\r\n",
        "np.dot(vector_a, vector_b)"
      ],
      "execution_count": 48,
      "outputs": [
        {
          "output_type": "execute_result",
          "data": {
            "text/plain": [
              "32"
            ]
          },
          "metadata": {
            "tags": []
          },
          "execution_count": 48
        }
      ]
    },
    {
      "cell_type": "code",
      "metadata": {
        "colab": {
          "base_uri": "https://localhost:8080/"
        },
        "id": "NBqjD3C2V2ED",
        "outputId": "9b4e580f-05a1-41ab-e8a7-5271a1fcaccf"
      },
      "source": [
        "# alternatively use @\r\n",
        "\r\n",
        "vector_a @ vector_b"
      ],
      "execution_count": 49,
      "outputs": [
        {
          "output_type": "execute_result",
          "data": {
            "text/plain": [
              "32"
            ]
          },
          "metadata": {
            "tags": []
          },
          "execution_count": 49
        }
      ]
    },
    {
      "cell_type": "markdown",
      "metadata": {
        "id": "Mo1RuZvXW3z4"
      },
      "source": [
        "# Adding and Subtracting Matrices\r\n"
      ]
    },
    {
      "cell_type": "code",
      "metadata": {
        "colab": {
          "base_uri": "https://localhost:8080/"
        },
        "id": "JVtu-REtWPI6",
        "outputId": "bbba6476-578a-4c49-916e-aef6d9bc7f00"
      },
      "source": [
        "# create two matrices\r\n",
        "\r\n",
        "matrix_a = np.array([[1,2,3],\r\n",
        "                    [4,5,6],\r\n",
        "                     [7,8,9]])\r\n",
        "matrix_b = np.array([[1,1,1],\r\n",
        "                    [1,1,1],\r\n",
        "                     [1,1,1]])\r\n",
        "# add two matrices\r\n",
        "np.add(matrix_a, matrix_b)"
      ],
      "execution_count": 50,
      "outputs": [
        {
          "output_type": "execute_result",
          "data": {
            "text/plain": [
              "array([[ 2,  3,  4],\n",
              "       [ 5,  6,  7],\n",
              "       [ 8,  9, 10]])"
            ]
          },
          "metadata": {
            "tags": []
          },
          "execution_count": 50
        }
      ]
    },
    {
      "cell_type": "code",
      "metadata": {
        "colab": {
          "base_uri": "https://localhost:8080/"
        },
        "id": "IRnou3z1XrK0",
        "outputId": "df7d91ea-897b-482b-d420-e3a2fb8c39e9"
      },
      "source": [
        "# alternatively use +\r\n",
        "matrix_a + matrix_b"
      ],
      "execution_count": 51,
      "outputs": [
        {
          "output_type": "execute_result",
          "data": {
            "text/plain": [
              "array([[ 2,  3,  4],\n",
              "       [ 5,  6,  7],\n",
              "       [ 8,  9, 10]])"
            ]
          },
          "metadata": {
            "tags": []
          },
          "execution_count": 51
        }
      ]
    },
    {
      "cell_type": "code",
      "metadata": {
        "colab": {
          "base_uri": "https://localhost:8080/"
        },
        "id": "6aGwrYIPXOYZ",
        "outputId": "68d96910-47c4-4b25-80b7-9e8cf84f22e8"
      },
      "source": [
        "# subtract two matrices\r\n",
        "np.subtract(matrix_a, matrix_b)"
      ],
      "execution_count": 52,
      "outputs": [
        {
          "output_type": "execute_result",
          "data": {
            "text/plain": [
              "array([[0, 1, 2],\n",
              "       [3, 4, 5],\n",
              "       [6, 7, 8]])"
            ]
          },
          "metadata": {
            "tags": []
          },
          "execution_count": 52
        }
      ]
    },
    {
      "cell_type": "code",
      "metadata": {
        "colab": {
          "base_uri": "https://localhost:8080/"
        },
        "id": "A8Eyh6cEXl3-",
        "outputId": "79e58327-45b4-4cb9-819b-325de115019c"
      },
      "source": [
        "# Alternatively use -\r\n",
        "matrix_a - matrix_b"
      ],
      "execution_count": 53,
      "outputs": [
        {
          "output_type": "execute_result",
          "data": {
            "text/plain": [
              "array([[0, 1, 2],\n",
              "       [3, 4, 5],\n",
              "       [6, 7, 8]])"
            ]
          },
          "metadata": {
            "tags": []
          },
          "execution_count": 53
        }
      ]
    },
    {
      "cell_type": "markdown",
      "metadata": {
        "id": "aSHfAWpHX3A2"
      },
      "source": [
        "# Multiplying matrices"
      ]
    },
    {
      "cell_type": "code",
      "metadata": {
        "colab": {
          "base_uri": "https://localhost:8080/"
        },
        "id": "RImofbQlX0DN",
        "outputId": "b52b6e3d-9692-47ef-ebc6-30b4538dfab6"
      },
      "source": [
        "# create two matrices\r\n",
        "matrix_a = np.array([[1,1],\r\n",
        "                     [1,3]])\r\n",
        "matrix_b = np.array([[1,3],\r\n",
        "                     [1,2]])\r\n",
        "\r\n",
        "# multiply two matrices\r\n",
        "np.dot(matrix_a, matrix_b)"
      ],
      "execution_count": 54,
      "outputs": [
        {
          "output_type": "execute_result",
          "data": {
            "text/plain": [
              "array([[2, 5],\n",
              "       [4, 9]])"
            ]
          },
          "metadata": {
            "tags": []
          },
          "execution_count": 54
        }
      ]
    },
    {
      "cell_type": "code",
      "metadata": {
        "colab": {
          "base_uri": "https://localhost:8080/"
        },
        "id": "olERbvenX_ZG",
        "outputId": "2de0d17f-75ca-47ab-b512-6bab392c4285"
      },
      "source": [
        "# alternatively use @\r\n",
        "matrix_a @ matrix_b"
      ],
      "execution_count": 55,
      "outputs": [
        {
          "output_type": "execute_result",
          "data": {
            "text/plain": [
              "array([[2, 5],\n",
              "       [4, 9]])"
            ]
          },
          "metadata": {
            "tags": []
          },
          "execution_count": 55
        }
      ]
    },
    {
      "cell_type": "code",
      "metadata": {
        "colab": {
          "base_uri": "https://localhost:8080/"
        },
        "id": "T1C7vQU5ZBxs",
        "outputId": "a8d44186-0b1e-4040-c328-0ec2ef86eb82"
      },
      "source": [
        "# elementwise multiplication, use *\r\n",
        "matrix_a * matrix_b"
      ],
      "execution_count": 56,
      "outputs": [
        {
          "output_type": "execute_result",
          "data": {
            "text/plain": [
              "array([[1, 3],\n",
              "       [1, 6]])"
            ]
          },
          "metadata": {
            "tags": []
          },
          "execution_count": 56
        }
      ]
    },
    {
      "cell_type": "markdown",
      "metadata": {
        "id": "HWYbZu69a_CA"
      },
      "source": [
        "# Inverse of matrix"
      ]
    },
    {
      "cell_type": "code",
      "metadata": {
        "colab": {
          "base_uri": "https://localhost:8080/"
        },
        "id": "Bhh5L8OwZNGX",
        "outputId": "4925ab0b-6361-4985-b32f-1bc59c98e8f2"
      },
      "source": [
        "# create matrix\r\n",
        "matrix = np.array([[4,3],\r\n",
        "                   [3,2]])\r\n",
        "\r\n",
        "# calculate inverse of matrix\r\n",
        "np.linalg.inv(matrix)"
      ],
      "execution_count": 57,
      "outputs": [
        {
          "output_type": "execute_result",
          "data": {
            "text/plain": [
              "array([[-2.,  3.],\n",
              "       [ 3., -4.]])"
            ]
          },
          "metadata": {
            "tags": []
          },
          "execution_count": 57
        }
      ]
    },
    {
      "cell_type": "code",
      "metadata": {
        "colab": {
          "base_uri": "https://localhost:8080/"
        },
        "id": "8O-d4ds3ZqRd",
        "outputId": "005d3fd9-9fcc-4cb6-fd71-cb1b5ae5bd40"
      },
      "source": [
        "# multiply matrix with its inverse\r\n",
        "matrix @ np.linalg.inv(matrix)"
      ],
      "execution_count": 58,
      "outputs": [
        {
          "output_type": "execute_result",
          "data": {
            "text/plain": [
              "array([[1., 0.],\n",
              "       [0., 1.]])"
            ]
          },
          "metadata": {
            "tags": []
          },
          "execution_count": 58
        }
      ]
    },
    {
      "cell_type": "markdown",
      "metadata": {
        "id": "ocaDD0h0dV9w"
      },
      "source": [
        "# Generate Random Values"
      ]
    },
    {
      "cell_type": "code",
      "metadata": {
        "colab": {
          "base_uri": "https://localhost:8080/"
        },
        "id": "oyO0K9bBaIG6",
        "outputId": "098e78ab-89a7-4348-d5c2-bda26faeb482"
      },
      "source": [
        "# set seed\r\n",
        "np.random.seed(0)\r\n",
        "\r\n",
        "# generate three random floats between 0.0 and 1.0\r\n",
        "np.random.random(3)"
      ],
      "execution_count": 59,
      "outputs": [
        {
          "output_type": "execute_result",
          "data": {
            "text/plain": [
              "array([0.5488135 , 0.71518937, 0.60276338])"
            ]
          },
          "metadata": {
            "tags": []
          },
          "execution_count": 59
        }
      ]
    },
    {
      "cell_type": "code",
      "metadata": {
        "colab": {
          "base_uri": "https://localhost:8080/"
        },
        "id": "-4tlQFdudxGU",
        "outputId": "7d09e93b-0d2c-499b-94cc-b4e88380a7b2"
      },
      "source": [
        "#generate 4 random numbers between 1 and 10\r\n",
        "np.random.randint(0,11,4)"
      ],
      "execution_count": 60,
      "outputs": [
        {
          "output_type": "execute_result",
          "data": {
            "text/plain": [
              "array([3, 7, 9, 3])"
            ]
          },
          "metadata": {
            "tags": []
          },
          "execution_count": 60
        }
      ]
    },
    {
      "cell_type": "code",
      "metadata": {
        "id": "JWoIxsxNeDXJ",
        "colab": {
          "base_uri": "https://localhost:8080/"
        },
        "outputId": "8dfaf043-3381-4597-acad-cc754e28718f"
      },
      "source": [
        "# draw three numbers from a normal distribution with mean 0.0 and standard deviation of 1.0\r\n",
        "np.random.normal(0,1,3)"
      ],
      "execution_count": 61,
      "outputs": [
        {
          "output_type": "execute_result",
          "data": {
            "text/plain": [
              "array([-0.84272405,  1.96992445,  1.26611853])"
            ]
          },
          "metadata": {
            "tags": []
          },
          "execution_count": 61
        }
      ]
    },
    {
      "cell_type": "code",
      "metadata": {
        "colab": {
          "base_uri": "https://localhost:8080/"
        },
        "id": "6-odPybJWGok",
        "outputId": "eb989d06-9c57-49df-d17c-91abcd284549"
      },
      "source": [
        "# draw three numbers from a logistic distribution with mean 0.0 and scale of 1.0\r\n",
        "np.random.logistic(0,1,3)"
      ],
      "execution_count": 62,
      "outputs": [
        {
          "output_type": "execute_result",
          "data": {
            "text/plain": [
              "array([0.1157086 , 0.27387744, 2.52093742])"
            ]
          },
          "metadata": {
            "tags": []
          },
          "execution_count": 62
        }
      ]
    },
    {
      "cell_type": "code",
      "metadata": {
        "colab": {
          "base_uri": "https://localhost:8080/"
        },
        "id": "wfEsabCSWXPf",
        "outputId": "65a03030-b91c-4bc6-f4d8-3cc88835691a"
      },
      "source": [
        "# draw three numbers greater than or equal to 1.0 and less than 2.0\r\n",
        "np.random.uniform(1.0,2.0,3)"
      ],
      "execution_count": 63,
      "outputs": [
        {
          "output_type": "execute_result",
          "data": {
            "text/plain": [
              "array([1.07103606, 1.0871293 , 1.0202184 ])"
            ]
          },
          "metadata": {
            "tags": []
          },
          "execution_count": 63
        }
      ]
    },
    {
      "cell_type": "code",
      "metadata": {
        "id": "NWE6d5qDWs3X"
      },
      "source": [
        ""
      ],
      "execution_count": 63,
      "outputs": []
    }
  ]
}